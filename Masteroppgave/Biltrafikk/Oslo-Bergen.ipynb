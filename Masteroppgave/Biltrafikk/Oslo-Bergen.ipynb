{
 "cells": [
  {
   "cell_type": "code",
   "execution_count": 9,
   "id": "2d85334c-ffc7-4618-8b2f-abec4baebc50",
   "metadata": {},
   "outputs": [],
   "source": [
    "import pandas as pd\n"
   ]
  },
  {
   "cell_type": "code",
   "execution_count": 2,
   "id": "c9b5f836-c23e-45bd-958e-ee2571d1c477",
   "metadata": {},
   "outputs": [
    {
     "name": "stdout",
     "output_type": "stream",
     "text": [
      "Filen er lagret som År_Oslo_Bergen.csv\n"
     ]
    }
   ],
   "source": [
    "import pandas as pd\n",
    "\n",
    "# Angi filbanen\n",
    "file_path = 'Trafikkdata, samlet.xlsx'\n",
    "\n",
    "# Les inn spesifikt ark\n",
    "oslo_bergen_yearly = pd.read_excel(file_path, sheet_name=\"År, Oslo - Bergen\")\n",
    "\n",
    "# Lagre som CSV\n",
    "output_file_path = 'År_Oslo_Bergen.csv'\n",
    "oslo_bergen_yearly.to_csv(output_file_path, index=False)\n",
    "\n",
    "print(f\"Filen er lagret som {output_file_path}\")\n"
   ]
  },
  {
   "cell_type": "code",
   "execution_count": 3,
   "id": "eae5a183-5de0-4e10-ad25-05fda5fee365",
   "metadata": {},
   "outputs": [
    {
     "name": "stdout",
     "output_type": "stream",
     "text": [
      "  Trafikkregistreringspunkt             Navn     Vegreferanse        Fra  \\\n",
      "0              18129V804739  Stanghelle vest  EV16 S6D1 m3819 2013-01-01   \n",
      "1              18129V804739  Stanghelle vest  EV16 S6D1 m3819 2013-01-01   \n",
      "2              18129V804739  Stanghelle vest  EV16 S6D1 m3819 2013-01-01   \n",
      "3              18129V804739  Stanghelle vest  EV16 S6D1 m3819 2013-01-01   \n",
      "4              18129V804739  Stanghelle vest  EV16 S6D1 m3819 2013-01-01   \n",
      "\n",
      "         Til    �r            Beregningsmetode  Trafikkmengde  \\\n",
      "0 2014-01-01  2013  Basiskurve (enhet = timer)           2512   \n",
      "1 2014-01-01  2013  Basiskurve (enhet = timer)           2787   \n",
      "2 2014-01-01  2013  Basiskurve (enhet = timer)           2787   \n",
      "3 2014-01-01  2013  Basiskurve (enhet = timer)           2512   \n",
      "4 2014-01-01  2013  Basiskurve (enhet = timer)           5298   \n",
      "\n",
      "  Konfidensintervall start Konfidensintervall slutt  ...  \\\n",
      "0                        -                        -  ...   \n",
      "1                        -                        -  ...   \n",
      "2                        -                        -  ...   \n",
      "3                        -                        -  ...   \n",
      "4                        -                        -  ...   \n",
      "\n",
      "  Lengdekvalitetsgrad (%)                      Felt < 5,6m >= 5,6m  \\\n",
      "0                       -                         1   2154     357   \n",
      "1                       -                         2   2369     417   \n",
      "2                       -  Totalt i retning Vaksdal   2369     417   \n",
      "3                       -     Totalt i retning Dale   2154     357   \n",
      "4                       -                    Totalt   4524     775   \n",
      "\n",
      "  5,6m - 7,6m 7,6m - 12,5m 12,5m - 16,0m  >= 16,0m  16,0m - 24,0m  >= 24,0m  \n",
      "0          73          110            30       144              -         -  \n",
      "1          83          124            65       146              -         -  \n",
      "2          83          124            65       146              -         -  \n",
      "3          73          110            30       144              -         -  \n",
      "4         157          234            95       289              -         -  \n",
      "\n",
      "[5 rows x 25 columns]\n"
     ]
    }
   ],
   "source": [
    "# Importer nødvendige biblioteker\n",
    "import pandas as pd\n",
    "\n",
    "# Definer filbanen til Excel-filen\n",
    "file_path = 'Trafikkdata, samlet.xlsx'\n",
    "\n",
    "# Les inn spesifikt ark \"År, Oslo - Bergen\"\n",
    "oslo_bergen_yearly = pd.read_excel(file_path, sheet_name=\"År, Oslo - Bergen\")\n",
    "\n",
    "# Bekreft at dataene er lastet inn\n",
    "print(oslo_bergen_yearly.head())\n"
   ]
  },
  {
   "cell_type": "code",
   "execution_count": 11,
   "id": "641bc085-5428-4067-8bf6-68838b077b34",
   "metadata": {},
   "outputs": [
    {
     "name": "stdout",
     "output_type": "stream",
     "text": [
      "Filtrert datasett lagret som: År_Oslo_Bergen_filtered.csv\n"
     ]
    }
   ],
   "source": [
    "\n",
    "\n"
   ]
  }
 ],
 "metadata": {
  "kernelspec": {
   "display_name": "Python 3 (ipykernel)",
   "language": "python",
   "name": "python3"
  },
  "language_info": {
   "codemirror_mode": {
    "name": "ipython",
    "version": 3
   },
   "file_extension": ".py",
   "mimetype": "text/x-python",
   "name": "python",
   "nbconvert_exporter": "python",
   "pygments_lexer": "ipython3",
   "version": "3.12.8"
  }
 },
 "nbformat": 4,
 "nbformat_minor": 5
}
